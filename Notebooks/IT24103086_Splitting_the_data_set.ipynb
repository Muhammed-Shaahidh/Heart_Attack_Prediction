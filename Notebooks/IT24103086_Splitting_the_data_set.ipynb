{
  "nbformat": 4,
  "nbformat_minor": 0,
  "metadata": {
    "colab": {
      "provenance": []
    },
    "kernelspec": {
      "name": "python3",
      "display_name": "Python 3"
    },
    "language_info": {
      "name": "python"
    }
  },
  "cells": [
    {
      "cell_type": "code",
      "source": [
        "import pandas as pd\n",
        "from sklearn.model_selection import train_test_split\n",
        "from sklearn.preprocessing import StandardScaler\n",
        "from sklearn.impute import SimpleImputer\n",
        "from collections import Counter\n",
        "from imblearn.over_sampling import SMOTE\n",
        "\n",
        "# 1. Load dataset\n",
        "df = pd.read_csv(\"data.csv\")\n",
        "\n",
        "# 2. Clean column names\n",
        "df.columns = df.columns.str.strip()\n",
        "\n",
        "# 3. Separate features and target\n",
        "X = df.drop(columns=['num'])\n",
        "y = df['num'].astype(int)  # ensure numeric target\n",
        "\n",
        "# 4. Handle missing/non-numeric values\n",
        "X = X.replace('?', pd.NA)               # replace '?' with NaN\n",
        "X = X.apply(pd.to_numeric)              # convert to numeric\n",
        "imputer = SimpleImputer(strategy='mean')\n",
        "X = pd.DataFrame(imputer.fit_transform(X), columns=X.columns)\n",
        "\n",
        "# 5. Scale features\n",
        "scaler = StandardScaler()\n",
        "X_scaled = pd.DataFrame(scaler.fit_transform(X), columns=X.columns)\n",
        "\n",
        "# 6. Check class distribution\n",
        "print(\"Class distribution before SMOTE:\", Counter(y))\n",
        "\n",
        "# 7. Apply SMOTE\n",
        "sm = SMOTE(random_state=42)\n",
        "X_res, y_res = sm.fit_resample(X_scaled, y)  # <-- fixed here\n",
        "print(\"Class distribution after SMOTE:\", Counter(y_res))\n",
        "\n",
        "# 8. Train/test split\n",
        "X_train, X_test, y_train, y_test = train_test_split(\n",
        "    X_res, y_res, test_size=0.2, random_state=42, stratify=y_res\n",
        ")\n",
        "\n",
        "print(\"Train shape:\", X_train.shape)\n",
        "print(\"Test shape:\", X_test.shape)\n"
      ],
      "metadata": {
        "colab": {
          "base_uri": "https://localhost:8080/"
        },
        "id": "m_x0yplOOiZa",
        "outputId": "a8c79a95-081d-47e6-f8b4-87ea4d0f0aae"
      },
      "execution_count": 32,
      "outputs": [
        {
          "output_type": "stream",
          "name": "stdout",
          "text": [
            "Class distribution before SMOTE: Counter({0: 188, 1: 106})\n",
            "Class distribution after SMOTE: Counter({0: 188, 1: 188})\n",
            "Train shape: (300, 13)\n",
            "Test shape: (76, 13)\n"
          ]
        }
      ]
    }
  ]
}